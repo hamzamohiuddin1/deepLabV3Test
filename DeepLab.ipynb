{
 "cells": [
  {
   "cell_type": "markdown",
   "metadata": {},
   "source": [
    "This implementation adapts the Tensorflow implementation of DeepLabV3+ at https://github.com/lattice-ai/DeepLabV3-Plus.    \n",
    "\n",
    "Currently, there are CONFIG files for the Camvid, COCO, and Human Parsing datasets in 'deepLabV3Test/DeepLabV3Plus/config/' Once loaded, the Camvid and Human Parsing datasets are stored in 'deepLabV3Test/DeepLabV3Plus/dataset/' while the path for COCO is '/ocean/datasets/community/COCO/Dataset_2017/'. Since the format of that COCO dataset is slightly incompatible with this implementation, there is a companion coco_masks folder in 'deepLabV3Test/DeepLabV3Plus/dataset/'.    \n",
    "\n",
    "Any dataset can be loaded and trained on, Camvid is the only one that trained in a reasonable amount of time for me.   "
   ]
  },
  {
   "cell_type": "code",
   "execution_count": null,
   "metadata": {
    "tags": []
   },
   "outputs": [],
   "source": [
    "# Clone model\n",
    "!git clone git@github.com:lattice-ai/DeepLabV3-Plus.git\n"
   ]
  },
  {
   "cell_type": "markdown",
   "metadata": {},
   "source": [
    "Creating a wandb (weights and bases account) is optional but can be used to log model runs. Kaggle is necessary to download human_parsing dataset."
   ]
  },
  {
   "cell_type": "code",
   "execution_count": null,
   "metadata": {
    "tags": []
   },
   "outputs": [],
   "source": [
    "# Install dependencies\n",
    "%pip install wandb==0.15.11 kaggle pycocotools \n",
    "\n",
    "# Log into wandb (make an account first)\n",
    "%wandb login"
   ]
  },
  {
   "cell_type": "code",
   "execution_count": null,
   "metadata": {},
   "outputs": [],
   "source": [
    "# Load datasets\n",
    "cd ./DeepLabV3Plus/dataset\n",
    "bash camvid.sh\n",
    "bash download_human_parsing_dataset.sh <kaggle-username> <kaggle-key> # Human parsing dataset is large (>2GB)"
   ]
  },
  {
   "cell_type": "code",
   "execution_count": null,
   "metadata": {
    "collapsed": true,
    "jupyter": {
     "outputs_hidden": true
    },
    "tags": []
   },
   "outputs": [],
   "source": [
    "# deepLabV3Test/DeepLab.py\n",
    "from DeepLabV3Plus.deeplabv3plus.model.deeplabv3_plus import DeeplabV3Plus as DeepLabV3Plus\n",
    "import tensorflow as tf\n",
    "\n",
    "model = DeepLabV3Plus(backbone='resnet50', num_classes=20)\n",
    "input_shape = (1, 512, 512, 3)\n",
    "input_tensor = tf.random.normal(input_shape)\n",
    "result = model(input_tensor)\n",
    "model.summary()"
   ]
  },
  {
   "cell_type": "code",
   "execution_count": null,
   "metadata": {},
   "outputs": [],
   "source": [
    "# Simple model test\n",
    "!python ./DeeplabSummary.py"
   ]
  },
  {
   "cell_type": "code",
   "execution_count": null,
   "metadata": {},
   "outputs": [],
   "source": [
    "# Load COCO masks (convert from jsons)\n",
    "# From ./DeepLabV3Test\n",
    "!python ./coco_loader.py"
   ]
  },
  {
   "cell_type": "markdown",
   "metadata": {},
   "source": [
    "If you don't want to log run on wandb, just run !python ./DeepLabV3Plus/trainer.py camvid_resnet50"
   ]
  },
  {
   "cell_type": "code",
   "execution_count": null,
   "metadata": {
    "collapsed": true,
    "jupyter": {
     "outputs_hidden": true
    },
    "tags": []
   },
   "outputs": [],
   "source": [
    "# Train the model on camvid dataset \n",
    "!python ./DeepLabV3Plus/trainer.py camvid_resnet50 --wandb_api_key <YOUR_WANDB_API_KEY>"
   ]
  },
  {
   "cell_type": "markdown",
   "metadata": {},
   "source": [
    "100 Epoch run of trainer.py on Camvid dataset:    \n",
    "    accuracy: 0.9303584694862366   \n",
    "    best_epoch: 59    \n",
    "    best_val_loss: 0.4207731485366822    \n",
    "    epoch: 99    "
   ]
  },
  {
   "cell_type": "code",
   "execution_count": null,
   "metadata": {
    "collapsed": true,
    "jupyter": {
     "outputs_hidden": true
    },
    "tags": []
   },
   "outputs": [],
   "source": [
    "# Train the model on coco dataset \n",
    "!python ./DeepLabV3Plus/trainer.py coco_resnet50 --wandb_api_key <YOUR_WANDB_API_KEY>"
   ]
  }
 ],
 "metadata": {
  "kernelspec": {
   "display_name": "Python 3",
   "language": "python",
   "name": "python3"
  },
  "language_info": {
   "codemirror_mode": {
    "name": "ipython",
    "version": 3
   },
   "file_extension": ".py",
   "mimetype": "text/x-python",
   "name": "python",
   "nbconvert_exporter": "python",
   "pygments_lexer": "ipython3",
   "version": "3.6.8"
  }
 },
 "nbformat": 4,
 "nbformat_minor": 4
}
